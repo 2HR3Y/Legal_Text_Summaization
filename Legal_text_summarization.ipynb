{
 "cells": [
  {
   "cell_type": "markdown",
   "metadata": {
    "id": "4lbcoZ0WqM--"
   },
   "source": [
    "### Step 1: Data Exploration and Preprocessing\n",
    "\n",
    "#### 1. Load the Dataset\n",
    "First, we'll load the dataset from the Hugging Face repository using the `datasets` library."
   ]
  },
  {
   "cell_type": "code",
   "execution_count": null,
   "metadata": {
    "id": "-CTxFHR8sPW9"
   },
   "outputs": [],
   "source": [
    "import os\n",
    "huggingface_token = os.getenv(\"HF_TOKEN\")"
   ]
  },
  {
   "cell_type": "code",
   "execution_count": null,
   "metadata": {
    "colab": {
     "base_uri": "https://localhost:8080/",
     "height": 1000,
     "referenced_widgets": [
      "e38c8e4e0eaa413b9df320865e2f2405",
      "5ce7b9bef5ae4de5af0b54a6319e0d7e",
      "28ef225f8a5b41dbad34b622e8363a37",
      "6a9cf27634664d01a683967565bc6b8b",
      "563dd9e0931e47f5a1450d54a21a0f7c",
      "a96f624871bd43b3a508bfda40b3df4a",
      "453e3a4fd07f4b99bc6933d849f03016",
      "ad86b23329534fbd995381d959d771e8",
      "c4205b6a25aa4df39ae47483f794c42b",
      "7697596aaef941a08734fd360d85fd8f",
      "f669201c7a4242dfa8efb502508e400d",
      "839d387746d2456597129f550625890b",
      "918be4dcbd8a4f2dbc39341fdd8ac9da",
      "5cc9b5addbf246aeb77db1c3c423eb48",
      "03dcdd9872414e369f449eb0edde81cb",
      "2889c0a3b77d4a0e8075a6fb5a0d7ff6",
      "8e37971a45884e4ab95431dfb47c2264",
      "33fe191d0c6e4bcf8935138efdd6b546",
      "891332eec3924931a9586b4f16ccd645",
      "8b8bc7e65d5047e18b06331f4b433daf",
      "88b668658ef94def8044c6b0790f01cf",
      "402ecc4bd32d4abcaa52373c066a59ad",
      "52f79f6172ca4c688e2830228a0ea931",
      "f30e4c963def4b38accf3a91bc4f5271",
      "03ee8c0eb2134534865b121cf5fe78bc",
      "f0f856b669764b8ebc150d387580c645",
      "9456f39f0c694860aec6ec4a86bb4e44",
      "f90d61fbdce2425395c1f0ae8e452796",
      "fcda9b84517946f1add223c6ee73a26c",
      "0bc3cc93e5a048869d6d257fdec251fb",
      "7ac8adc1736044c2aeec1e882b587655",
      "25e1af6316434026b0cd9713106a8a96",
      "ce5704b8c2c34046aafb5439214f9947",
      "6affbd3273d747eb88f3f6b8a9de0701",
      "1c2905a350b942b5bcc5e456b50a7c29",
      "099fdea44e64456abbc7269df79c2472",
      "4f666a98e32c40bbbd2eb87b0d2fa1b0",
      "7914c0dfadf9472baaef66aa309bf399",
      "99c605b7b83b4942af86bd10876a05cb",
      "b871810fc2314d3c82fadb8fa2c1dc89",
      "dec6a1422a3c47b59dd9a5282cea9780",
      "370578f4a158498e85f4026e133cb05f",
      "cd14e57fcee2451b8ee933ec1539e820",
      "d9c121e9b17d47f088daa430e65eef47",
      "fac8da61c41243f68d2e7f459e0ee516",
      "5f8d2db0a1584f2398f5222c3008c9cb",
      "30d7e6fcc8ef4089bdaf050b279022d6",
      "297dc202c9634a60a15bf9d4ead116e9",
      "c3e2b3069acf492a8058e6f1541690dd",
      "3171d4c7b30b41189e63f971261c0333",
      "c1e5ff75ebf54292a6b3d2e0954e5409",
      "f15eca34ec8443c08a985143973b90c2",
      "a7b8a5a01cf047c9b23f1eaf9ae53f65",
      "be6ff57049b44d0b91d64549ec8e228d",
      "4632f00aa1844ffb9416b5edd3f2963c"
     ]
    },
    "id": "0fh2OmLuqBHn",
    "outputId": "1107ed26-d79b-4259-f54a-9f3d8b03eaca"
   },
   "outputs": [],
   "source": [
    "!pip install datasets\n",
    "\n",
    "from datasets import load_dataset\n",
    "\n",
    "# Load the legal summarization dataset\n",
    "dataset = load_dataset(\"lighteval/legal_summarization\", \"BillSum\", split=\"train\")\n",
    "\n",
    "# Display dataset info\n",
    "print(dataset.info)\n"
   ]
  },
  {
   "cell_type": "markdown",
   "metadata": {
    "id": "kCEg6V-HqaK0"
   },
   "source": [
    "#### 2. Data Exploration\n",
    "Explore the dataset to understand its structure and contents."
   ]
  },
  {
   "cell_type": "code",
   "execution_count": null,
   "metadata": {
    "colab": {
     "base_uri": "https://localhost:8080/"
    },
    "id": "5cEoZGgVqbM0",
    "outputId": "f94b2827-a7ae-49e3-8089-8c87d6af625d"
   },
   "outputs": [],
   "source": [
    "# Display first few examples\n",
    "print(dataset[0])\n",
    "\n",
    "# Display dataset size\n",
    "print(\"Train dataset size:\", len(dataset))\n"
   ]
  },
  {
   "cell_type": "markdown",
   "metadata": {
    "id": "yVsL_zaVqd7T"
   },
   "source": [
    "#### 3. Data Preprocessing\n",
    "Preprocess the text data by tokenizing, cleaning, and encoding it for model input."
   ]
  },
  {
   "cell_type": "code",
   "execution_count": null,
   "metadata": {
    "colab": {
     "base_uri": "https://localhost:8080/",
     "height": 182,
     "referenced_widgets": [
      "e2c3866f713743f7b0c9448aca772ba7",
      "c9dbe308e3ce4ba89b57d31c1ed9dfb0",
      "2f0b6bd1ec9e4c1b8f1d94b4320a4512",
      "8d15c3972f7c4a1e86514448b19e0b70",
      "635afeb9b6564014be7965510b3d2157",
      "de74f3ce8e034fca894a3ffc39a5c3d2",
      "b2b464db1e9547d29be4e886c2e59a9e",
      "4054b2a7f0a040bfba98f0e7805ff1a4",
      "df01ee5005da4823972c490c92b93b8b",
      "2d727063ae7942cf851c332c74eeac01",
      "498f01c50e554600a7de218219e4a778",
      "b736b150dbcd4a308e531e3d39612811",
      "aef599adb87d4ebc9e04da38a4bc63fb",
      "640f78f08e4245e78a99324a920742e4",
      "eb5aae1a179e4d8fa7f9c7935999020a",
      "735857131b0143d89782a319fc1ca97e",
      "f80c221fc3ed43a4a441fe47c90d6aef",
      "02b31a7c2de04e8e9ea64750ed9ce37b",
      "abf044f43bad4d54a3938ce6853e907b",
      "060f0413c64e46e780c6ac35eebdceed",
      "beeb94627d7f4cbda8bfac1b28a31a2f",
      "67cc2c07504744b0b134fae6ec55d0c6",
      "9411954062354b5ba4f0d7bb6b55096a",
      "4a6f1adfe7e9459c824e19aa0a61bd1a",
      "a8d7b58d91c046989d0bb4762ef18306",
      "44e52a6481f44111893f65e4d4b9fa9e",
      "508f45e3e8764296a3aba24f95da3d7a",
      "1d9184ff485d40f8bb5be3c8c25657e3",
      "41fa97ba1f344de4a19b91910fd8713e",
      "9ff1db0e2d87495a83e3f5a4b97768c2",
      "7bb4f2efd5004377b3e7e9eaab11e60c",
      "ae39db87656043408fd0bef4d2f639ee",
      "a428ac85198343b38086bcd0d73f757a",
      "e65f57f0a3f14279908840086c09572b",
      "aebc8d32c6ea432e94733d9798a86b7a",
      "6899e583d55e49c7ad57a1be292dfdbe",
      "548a62059c384ab69b2101f3ea14a0e3",
      "5c2614b516f74e48baf0b293a8b63a1c",
      "3a8986c8c9e84d6eb7d5e0486fe9248d",
      "6a53ade632af4edc8b3d85921f8e4c0f",
      "e1e0f1f5ca424022b17d937aa14eb1ad",
      "b39d57f021384f83aae61ab9c26785b6",
      "a59b4080f50f4194a7a70147ae18ac8a",
      "fc009ac2ce434c5a9bc63d5df2e827c0"
     ]
    },
    "id": "h96MKRtiqgkG",
    "outputId": "e583f392-7321-4b46-a1e1-9ccc4466afbe"
   },
   "outputs": [],
   "source": [
    "from transformers import AutoTokenizer\n",
    "from datasets import Dataset\n",
    "\n",
    "# Load tokenizer\n",
    "tokenizer = AutoTokenizer.from_pretrained(\"t5-base\")\n",
    "\n",
    "# Define a function for preprocessing\n",
    "def preprocess_data(example):\n",
    "    # Tokenize and encode the text\n",
    "    inputs = tokenizer(example['article'], padding='max_length', truncation=True, max_length=512, return_tensors='pt')\n",
    "    # Tokenize and encode the summary\n",
    "    targets = tokenizer(example['summary'], padding='max_length', truncation=True, max_length=128, return_tensors='pt')\n",
    "    return {'input_ids': inputs['input_ids'].squeeze(), 'labels': targets['input_ids'].squeeze()}\n",
    "\n",
    "# Convert the training dataset to a format suitable for preprocessing\n",
    "train_dataset = Dataset.from_dict({'article': dataset['article'], 'summary': dataset['summary']})\n",
    "\n",
    "# Apply preprocessing to the training dataset\n",
    "train_dataset = train_dataset.map(preprocess_data)\n",
    "\n",
    "# Display preprocessed data sample\n",
    "print(train_dataset[0])\n"
   ]
  },
  {
   "cell_type": "markdown",
   "metadata": {
    "id": "q8CoWonY0ZOh"
   },
   "source": [
    "### Step 2: Model Selection and Training"
   ]
  },
  {
   "cell_type": "code",
   "execution_count": null,
   "metadata": {
    "colab": {
     "base_uri": "https://localhost:8080/",
     "height": 1000
    },
    "id": "yqTxxQlo24xp",
    "outputId": "80954dcc-13b8-428a-dbb8-ef85b474bc76"
   },
   "outputs": [],
   "source": [
    "!pip install accelerate==0.21.0\n",
    "!pip install transformers[torch] -U"
   ]
  },
  {
   "cell_type": "markdown",
   "metadata": {
    "id": "PuqkqLgOdShu"
   },
   "source": [
    "##### T5-small model will be used to train the dataset."
   ]
  },
  {
   "cell_type": "code",
   "execution_count": null,
   "metadata": {
    "colab": {
     "base_uri": "https://localhost:8080/",
     "height": 1000,
     "referenced_widgets": [
      "060142a0e2a849fcbae91a6036467e46",
      "9d1ddd2873d14a769c3ebc72ab42377b",
      "e714e2cf94f3473182a25acbebfb3849",
      "aa1cf0d788da4e78b62d73728a521e9e",
      "0c4d4e1f95ec444a926eade9230c877b",
      "9038082d0d184c85a3aa017bbf8ab5f3",
      "c2e52537b9fe491abd9696a9318fd228",
      "ecc8b1dcdd5544548c66f3f56dd26921",
      "83b82b8786544adda946c03746670448",
      "bcdab46d2a884e9aa2519c5090376736",
      "892432e2f5bd4cb9a193691a67c1dc05",
      "6f59031ef1ab48318774981be518f815",
      "53854ff4e7294131be7b5ebea502b939",
      "e5ccdca9d3524a52a240dffd720da9ef",
      "87b5488255df4b83bbdfac2f9dace418",
      "889e7a219e4141939fe3354fae87eb1e",
      "669982b00ae143e9ad551978e0a49ba9",
      "153db6c1a82f4ff78a063917d56c7c2a",
      "8ac357c5c7ce4e11aa43bfeca15fdd64",
      "d31e135dc029443e849b6a5603de0fcb",
      "4f897a8ad2494349afd9884009149b61",
      "5831898a3397487ca350a60e2343f646",
      "d995d302f81040ec9f5ab87c612e8801",
      "ef23c8e5b5574a76a8c2f49329f556ac",
      "117f7f001e9c44a98ca42bfed8f8fd1d",
      "f572e2730b5941efbd9c671f36272479",
      "aede57a93dae4a748cd8d7dae896a094",
      "411bdc2a388b4a5d919bd54e08d02b71",
      "80be260af5d4449e9a5a2a64c30543e5",
      "996c28413ed34a838b58bdee32be830c",
      "f5311b9c20a24b29831ff5734e7241cf",
      "ff0e937b6f274370a17ebee3f2b0c178",
      "31a5e8519ceb4928a4fd4d296a116130",
      "47b740189c314640af47a64cd5468041",
      "e6a5d69dbb584a2eac727c0a5afb1faa",
      "ee017458b0aa44baa20ea8f8b54045a9",
      "8e95356036e84308855980fa550444f7",
      "e3d2bd47f57b4e3b91481f21ef202baa",
      "723a53ff8867439d8c3c413b1d5498d9",
      "c931c3d66eb047248bdb0a57be582c2e",
      "39eae648e45d4e31801eac1be1ba382d",
      "8a0236e38e164af59e01469460112eb5",
      "a0e91337f82440fa972dd403daaf0eea",
      "699b172d462c478bba42abb0d0ec0839",
      "3c66e8ebdf254fb88e2d962d16b4e772",
      "253b1c24813e4d188bb55c94e5fa4cf3",
      "0e6aa4bdef12419dbe4c7776c39f2a8c",
      "e7c7406116924a5998bee896e79274a6",
      "f3216950425a4970b690a6c6865bb76d",
      "cbceebec93ee4a2b8557f6c2aefd9326",
      "55a1cf32524d4293bf8a18b0e0e57ac3",
      "a3e57a92c00249078aa965eda29aed4f",
      "17470e0abb5d46849ae3b987b91573b1",
      "ced11ad799904ad6b3eb0f5ea3fe6d77",
      "4d07f2f42f574839b5bd2586edf0ce57",
      "971004d335c3403d858ae5cabd3f9f17",
      "8fa888df1020451b9ca822eff32e3f85",
      "cb23c384e16d4e5ab1ebf9fad4140864",
      "9c7ffb66bf0d4b7ba25a0046bd1ad745",
      "465d5e13291d4793acaf15d9772ce990",
      "cfac983280e041508cce02938e1cc552",
      "790c239d38ff4865b1bda34f49a984c8",
      "bc39a5d5f6254f99a8306a9c44879a8f",
      "055c0fa9049c4ee6a82e855407f7ea3c",
      "20047aca0e71498b940211739331b4d2",
      "4432fb21084b4a10bc2d797e7dca77db",
      "1d24b17a32364d1e99d3cb835c0a48e4",
      "10314b563fc44970a5ee9eb8c0bef500",
      "a57fecc5efd34bc9b16610636d220118",
      "3877b658a2524c27801ac8b708d6a368",
      "0bbfa4a0927940a8ac1ff9cf3a9e3366",
      "3669e25a7d07422c8fb9ea033052ab54",
      "4980a8edd6464bdf9576c6d90a3079da",
      "a311d47a32b54e618ccc5f73ea2e65d1",
      "a8e157705f6744a888d1526e1dbed280",
      "5f7e65ddd3774fbaa6f4f1ff85e19238",
      "442317af1fe54475816e8e51629458ef"
     ]
    },
    "id": "IrpC6_vuq-ld",
    "outputId": "4b7dce16-4fe4-426d-a806-7fb36f6ddfdc"
   },
   "outputs": [],
   "source": [
    "!pip install transformers[torch] -U\n",
    "!pip install accelerate -U\n",
    "\n",
    "from transformers import T5ForConditionalGeneration, T5Tokenizer, Trainer, TrainingArguments\n",
    "from datasets import load_dataset\n",
    "\n",
    "# Load the tokenizer and model (using the t5-small variant)\n",
    "tokenizer = T5Tokenizer.from_pretrained(\"t5-small\")\n",
    "model = T5ForConditionalGeneration.from_pretrained(\"t5-small\")\n",
    "\n",
    "# Load the dataset\n",
    "dataset = load_dataset(\"lighteval/legal_summarization\", \"BillSum\", split=\"train\")\n",
    "\n",
    "# Define a function for data preprocessing\n",
    "def preprocess_data(example):\n",
    "    inputs = tokenizer(example['article'], padding='max_length', truncation=True, max_length=128, return_tensors='pt')\n",
    "    targets = tokenizer(example['summary'], padding='max_length', truncation=True, max_length=32, return_tensors='pt')\n",
    "    return {'input_ids': inputs['input_ids'].squeeze(), 'labels': targets['input_ids'].squeeze()}\n",
    "\n",
    "# Apply preprocessing to the dataset\n",
    "train_dataset = dataset.map(preprocess_data)\n",
    "\n",
    "# Define training arguments\n",
    "training_args = TrainingArguments(\n",
    "    output_dir=\"./legal_summarization_output\",\n",
    "    per_device_train_batch_size=4,  # Adjust batch size\n",
    "    gradient_accumulation_steps=64,  # Increase accumulation steps\n",
    "    num_train_epochs=1,              # Limit number of epochs\n",
    "    save_steps=500,\n",
    "    save_total_limit=2,\n",
    ")\n",
    "\n",
    "# Initialize Trainer\n",
    "trainer = Trainer(\n",
    "    model=model,\n",
    "    args=training_args,\n",
    "    train_dataset=train_dataset,\n",
    ")\n",
    "\n",
    "# Train the model\n",
    "trainer.train()\n",
    "\n",
    "# Save the fine-tuned model\n",
    "model.save_pretrained(\"./fine_tuned_model\")\n",
    "tokenizer.save_pretrained(\"./fine_tuned_model\")\n",
    "\n",
    "from google.colab import files\n",
    "\n",
    "# Compress the fine-tuned model directory into a zip file\n",
    "!zip -r fine_tuned_model.zip ./fine_tuned_model\n",
    "\n",
    "# Download the zip file\n",
    "files.download(\"fine_tuned_model.zip\")\n"
   ]
  },
  {
   "cell_type": "markdown",
   "metadata": {
    "id": "QD3ildWpeIdf"
   },
   "source": [
    "#### Uploaded model and other necessary files to goole drive"
   ]
  },
  {
   "cell_type": "code",
   "execution_count": null,
   "metadata": {
    "colab": {
     "base_uri": "https://localhost:8080/"
    },
    "id": "OeLXsxgHJDTX",
    "outputId": "1021cdc3-5fee-43bd-c95c-75fd5c424bee"
   },
   "outputs": [],
   "source": [
    "from google.colab import drive\n",
    "\n",
    "drive.mount('/content/drive')"
   ]
  },
  {
   "cell_type": "code",
   "execution_count": null,
   "metadata": {
    "colab": {
     "base_uri": "https://localhost:8080/",
     "height": 38
    },
    "id": "zDeUuP4G0jc5",
    "outputId": "a953225a-9fe4-43cb-c6c9-5b8d77ffd6f6"
   },
   "outputs": [],
   "source": [
    "from google.colab import files\n",
    "Uploaded = files.upload()"
   ]
  },
  {
   "cell_type": "code",
   "execution_count": null,
   "metadata": {
    "id": "9CY_1d3HKaE1"
   },
   "outputs": [],
   "source": [
    "!cp -r /content/fine_tuned_model /content/drive/MyDrive/\n",
    "!cp -r /content/legal_summarization_output /content/drive/MyDrive/\n",
    "!cp /content/fine_tuned_model.zip /content/drive/MyDrive/\n",
    "\n",
    "# Skip when running outside Colab"
   ]
  },
  {
   "cell_type": "markdown",
   "metadata": {
    "id": "JFcYEPJ3KPWv"
   },
   "source": [
    "#### ROUGE score calculation"
   ]
  },
  {
   "cell_type": "code",
   "execution_count": null,
   "metadata": {
    "colab": {
     "base_uri": "https://localhost:8080/"
    },
    "id": "rAIJBmH8KTou",
    "outputId": "68f4c8aa-a0a8-43a9-f1ea-101fe6e22652"
   },
   "outputs": [],
   "source": [
    "!pip install rouge-score\n",
    "\n",
    "from datasets import load_dataset, load_metric\n",
    "from transformers import T5Tokenizer, T5ForConditionalGeneration, pipeline\n",
    "import numpy as np\n",
    "\n",
    "# Load the tokenizer and model\n",
    "tokenizer = T5Tokenizer.from_pretrained(\"./fine_tuned_model\")\n",
    "model = T5ForConditionalGeneration.from_pretrained(\"./fine_tuned_model\")\n",
    "\n",
    "# Initialize the summarization pipeline, explicitly setting it to use CPU\n",
    "summarizer = pipeline(\"summarization\", model=model, tokenizer=tokenizer, device=-1)\n",
    "\n",
    "# Define the metric\n",
    "rouge_metric = load_metric(\"rouge\")\n",
    "\n",
    "# Load the test dataset\n",
    "test_dataset = load_dataset(\"lighteval/legal_summarization\", \"BillSum\", split=\"test\")\n",
    "\n",
    "# Evaluate on a subset to keep the execution manageable\n",
    "num_samples = 100  # Adjust this number based on your needs and capabilities\n",
    "subset = test_dataset.select(range(num_samples))\n",
    "\n",
    "generated_summaries = []\n",
    "references = []\n",
    "\n",
    "for sample in subset:\n",
    "    # Generate summary\n",
    "    input_text = sample[\"article\"]\n",
    "    summary = summarizer(input_text, max_length=150, min_length=40, length_penalty=2.0, num_beams=4, early_stopping=True)[0][\"summary_text\"]\n",
    "    generated_summaries.append(summary)\n",
    "    references.append(sample[\"summary\"])\n",
    "\n",
    "# Compute and print ROUGE scores\n",
    "results = rouge_metric.compute(predictions=generated_summaries, references=references, use_stemmer=True)\n",
    "for key in results.keys():\n",
    "    print(f\"{key}: {np.mean(results[key]):.4f}\")\n"
   ]
  },
  {
   "cell_type": "markdown",
   "metadata": {
    "id": "Qa6_AfpIQ8BQ"
   },
   "source": [
    "#### dataeset distribution"
   ]
  },
  {
   "cell_type": "code",
   "execution_count": null,
   "metadata": {
    "colab": {
     "base_uri": "https://localhost:8080/"
    },
    "id": "UsNMa0Rork2p",
    "outputId": "ee8b3303-89a4-4dfa-f903-0405a3f6f64a"
   },
   "outputs": [],
   "source": [
    "import nltk\n",
    "from nltk.corpus import stopwords\n",
    "from sklearn.feature_extraction.text import CountVectorizer\n",
    "from sklearn.metrics.pairwise import cosine_similarity\n",
    "\n",
    "# Given summary\n",
    "given_summary = \"Public Safety and Protection Investment Act of 2003 - Amends the Internal Revenue Code to allow businesses to expense the costs of purchasing and installing qualifying security devices.\"\n",
    "\n",
    "# Generated summary\n",
    "generated_summary = \"Public Safety and Protection Investment Act of 2003 amended by inserting after the item relating to section 179A the following new item: Sec.179B. a taxpayer may elect to treat the cost of any qualifying security device as an expense which is not chargeable to capital account.\"\n",
    "\n",
    "# Tokenize summaries\n",
    "nltk.download('punkt')\n",
    "given_tokens = nltk.word_tokenize(given_summary)\n",
    "generated_tokens = nltk.word_tokenize(generated_summary)\n",
    "\n",
    "# Remove stopwords\n",
    "nltk.download('stopwords')\n",
    "stop_words = set(stopwords.words('english'))\n",
    "given_filtered_tokens = [word for word in given_tokens if word.lower() not in stop_words]\n",
    "generated_filtered_tokens = [word for word in generated_tokens if word.lower() not in stop_words]\n",
    "\n",
    "# Convert tokens to strings\n",
    "given_text = ' '.join(given_filtered_tokens)\n",
    "generated_text = ' '.join(generated_filtered_tokens)\n",
    "\n",
    "# Calculate cosine similarity\n",
    "vectorizer = CountVectorizer().fit_transform([given_text, generated_text])\n",
    "similarity = cosine_similarity(vectorizer[0], vectorizer[1])[0][0]\n",
    "\n",
    "print(\"Cosine Similarity between the given and generated summaries:\", similarity)\n"
   ]
  },
  {
   "cell_type": "code",
   "execution_count": null,
   "metadata": {
    "colab": {
     "base_uri": "https://localhost:8080/",
     "height": 564
    },
    "id": "nFvDb3lMLJxn",
    "outputId": "e4c1b190-5d25-4a31-c74c-e81762c53e20"
   },
   "outputs": [],
   "source": [
    "import matplotlib.pyplot as plt\n",
    "\n",
    "# Dataset information\n",
    "train_examples = 18949\n",
    "test_examples = 3269\n",
    "\n",
    "# Plotting the dataset distribution\n",
    "plt.figure(figsize=(8, 6))\n",
    "plt.bar(['Train', 'Test'], [train_examples, test_examples], color=['blue', 'green'])\n",
    "plt.xlabel('Dataset Split')\n",
    "plt.ylabel('Number of Examples')\n",
    "plt.title('Distribution of Examples in Train and Test Splits')\n",
    "plt.show()\n"
   ]
  },
  {
   "cell_type": "code",
   "execution_count": null,
   "metadata": {
    "colab": {
     "base_uri": "https://localhost:8080/",
     "height": 564
    },
    "id": "-wdEuZFBRDAJ",
    "outputId": "e556d137-51b9-4c8e-b0c1-99dfecebdf2d"
   },
   "outputs": [],
   "source": [
    "import matplotlib.pyplot as plt\n",
    "import seaborn as sns\n",
    "from datasets import load_dataset\n",
    "\n",
    "# Load the train and test datasets\n",
    "train_dataset = load_dataset(\"lighteval/legal_summarization\", \"BillSum\", split=\"train\")\n",
    "test_dataset = load_dataset(\"lighteval/legal_summarization\", \"BillSum\", split=\"test\")\n",
    "\n",
    "# Get the number of examples in train and test splits\n",
    "train_size = len(train_dataset)\n",
    "test_size = len(test_dataset)\n",
    "\n",
    "# Create a matrix with the sizes of train and test datasets\n",
    "dataset_sizes = [[train_size, 0], [0, test_size]]\n",
    "\n",
    "# Plot heatmap\n",
    "plt.figure(figsize=(8, 6))\n",
    "sns.heatmap(dataset_sizes, annot=True, fmt='d', cmap='Blues', xticklabels=['Train', 'Test'], yticklabels=['Train', 'Test'])\n",
    "plt.xlabel('Dataset Split')\n",
    "plt.ylabel('Dataset Split')\n",
    "plt.title('Dataset Distribution: Train vs Test')\n",
    "plt.show()"
   ]
  },
  {
   "cell_type": "markdown",
   "metadata": {
    "id": "UdVbIDLWfScG"
   },
   "source": [
    "#### length of the dataset"
   ]
  },
  {
   "cell_type": "code",
   "execution_count": null,
   "metadata": {
    "colab": {
     "base_uri": "https://localhost:8080/",
     "height": 564
    },
    "id": "M5UI9bE-VRoX",
    "outputId": "64216a6d-6526-432b-a03e-a33d005a416f"
   },
   "outputs": [],
   "source": [
    "import matplotlib.pyplot as plt\n",
    "import numpy as np\n",
    "from datasets import load_dataset\n",
    "\n",
    "# Load the dataset\n",
    "dataset = load_dataset(\"lighteval/legal_summarization\", \"BillSum\")\n",
    "\n",
    "# Get the lengths of all articles\n",
    "article_lengths = [len(article.split()) for article in dataset[\"train\"][\"article\"]]\n",
    "\n",
    "# Plot histogram\n",
    "plt.figure(figsize=(10, 6))\n",
    "plt.hist(article_lengths, bins=30, color='skyblue', edgecolor='black', alpha=0.7)\n",
    "plt.title('Distribution of Article Lengths')\n",
    "plt.xlabel('Length of Articles')\n",
    "plt.ylabel('Number of Articles')\n",
    "plt.grid(True)\n",
    "plt.show()\n"
   ]
  },
  {
   "cell_type": "code",
   "execution_count": null,
   "metadata": {
    "colab": {
     "base_uri": "https://localhost:8080/",
     "height": 487
    },
    "id": "wNdEeCvzWP-m",
    "outputId": "b2289a28-1807-46dd-c687-dd3b712902f7"
   },
   "outputs": [],
   "source": [
    "import seaborn as sns\n",
    "\n",
    "# Create distribution plots\n",
    "plt.figure(figsize=(10, 5))\n",
    "sns.histplot([len(article) for article in train_dataset[\"article\"]], color=\"skyblue\", label=\"Articles\")\n",
    "sns.histplot([len(summary) for summary in train_dataset[\"summary\"]], color=\"green\", label=\"Summaries\")\n",
    "plt.title(\"Length Distribution of Articles and Summaries\")\n",
    "plt.xlabel(\"Length\")\n",
    "plt.ylabel(\"Count\")\n",
    "plt.legend()\n",
    "plt.show()\n"
   ]
  },
  {
   "cell_type": "code",
   "execution_count": null,
   "metadata": {
    "colab": {
     "base_uri": "https://localhost:8080/",
     "height": 564
    },
    "id": "4W75cLg5WkW0",
    "outputId": "4899b479-e2a4-4fcd-ed87-1d3dc12990c4"
   },
   "outputs": [],
   "source": [
    "from sklearn.metrics.pairwise import cosine_similarity\n",
    "from sklearn.feature_extraction.text import TfidfVectorizer\n",
    "import numpy as np\n",
    "\n",
    "# Define a function to compute novelty scores\n",
    "def compute_novelty_scores(articles, summaries):\n",
    "    tfidf_vectorizer = TfidfVectorizer()\n",
    "    tfidf_matrix_articles = tfidf_vectorizer.fit_transform(articles)\n",
    "    tfidf_matrix_summaries = tfidf_vectorizer.transform(summaries)\n",
    "\n",
    "    # Compute cosine similarity between article and summary TF-IDF representations\n",
    "    cosine_similarities = cosine_similarity(tfidf_matrix_articles, tfidf_matrix_summaries)\n",
    "\n",
    "    # Derive novelty scores from cosine similarities\n",
    "    novelty_scores = 1 - np.max(cosine_similarities, axis=1)\n",
    "\n",
    "    return novelty_scores\n",
    "\n",
    "# Compute novelty scores for each article-summary pair\n",
    "novelty_scores = compute_novelty_scores(train_dataset[\"article\"], train_dataset[\"summary\"])\n",
    "\n",
    "# Plot histogram of novelty scores\n",
    "plt.figure(figsize=(8, 6))\n",
    "plt.hist(novelty_scores, bins=20, color='skyblue', edgecolor='black')\n",
    "plt.title('Novelty Score Distribution')\n",
    "plt.xlabel('Novelty Score')\n",
    "plt.ylabel('Frequency')\n",
    "plt.grid(True)\n",
    "plt.show()\n",
    "\n"
   ]
  },
  {
   "cell_type": "code",
   "execution_count": null,
   "metadata": {
    "colab": {
     "base_uri": "https://localhost:8080/"
    },
    "id": "lNBTjcQoShf5",
    "outputId": "c1f2594a-f94d-456a-e1ab-6f3ef66b65f4"
   },
   "outputs": [],
   "source": [
    "from transformers import T5ForConditionalGeneration, T5Tokenizer\n",
    "\n",
    "# Load pre-trained model and tokenizer\n",
    "model = T5ForConditionalGeneration.from_pretrained(\"t5-small\")\n",
    "tokenizer = T5Tokenizer.from_pretrained(\"t5-small\")\n",
    "\n",
    "# Article to summarize\n",
    "article = \"SECTION 1. LIABILITY OF BUSINESS ENTITIES PROVIDING USE OF FACILITIES TO NONPROFIT ORGANIZATIONS. (a) Definitions.--In this section: (1) Business entity.--The term ``business entity'' means a firm, corporation, association, partnership, consortium, joint venture, or other form of enterprise. (2) Facility.--The term ``facility'' means any real property, including any building, improvement, or appurtenance. (3) Gross negligence.--The term ``gross negligence'' means voluntary and conscious conduct by a person with knowledge (at the time of the conduct) that the conduct is likely to be harmful to the health or well-being of another person. (4) Intentional misconduct.--The term ``intentional misconduct'' means conduct by a person with knowledge (at the time of the conduct) that the conduct is harmful to the health or well-being of another person. (5) Nonprofit organization.--The term ``nonprofit organization'' means-- (A) any organization described in section 501(c)(3) of the Internal Revenue Code of 1986 and exempt from tax under section 501(a) of such Code; or (B) any not-for-profit organization organized and conducted for public benefit and operated primarily for charitable, civic, educational, religious, welfare, or health purposes. (6) State.--The term ``State'' means each of the several States, the District of Columbia, the Commonwealth of Puerto Rico, the Virgin Islands, Guam, American Samoa, the Northern Mariana Islands, any other territory or possession of the United States, or any political subdivision of any such State, territory, or possession. (b) Limitation on Liability.-- (1) In general.--Subject to subsection (c), a business entity shall not be subject to civil liability relating to any injury or death occurring at a facility of the business entity in connection with a use of such facility by a nonprofit organization if-- (A) the use occurs outside of the scope of business of the business entity; (B) such injury or death occurs during a period that such facility is used by the nonprofit organization; and (C) the business entity authorized the use of such facility by the nonprofit organization. (2) Application.--This subsection shall apply-- (A) with respect to civil liability under Federal and State law; and (B) regardless of whether a nonprofit organization pays for the use of a facility. (c) Exception for Liability.--Subsection (b) shall not apply to an injury or death that results from an act or omission of a business entity that constitutes gross negligence or intentional misconduct, including any misconduct that-- (1) constitutes a crime of violence (as that term is defined in section 16 of title 18, United States Code) or act of international terrorism (as that term is defined in section 2331 of title 18) for which the defendant has been convicted in any court; (2) constitutes a hate crime (as that term is used in the Hate Crime Statistics Act (28 U.S.C. 534 note)); (3) involves a sexual offense, as defined by applicable State law, for which the defendant has been convicted in any court; or (4) involves misconduct for which the defendant has been found to have violated a Federal or State civil rights law. (d) Superseding Provision.-- (1) In general.--Subject to paragraph (2) and subsection (e), this Act preempts the laws of any State to the extent that such laws are inconsistent with this Act, except that this Act shall not preempt any State law that provides additional protection from liability for a business entity for an injury or death with respect to which conditions under subparagraphs (A) through (C) of subsection (b)(1) apply. (2) Limitation.--Nothing in this Act shall be construed to supersede any Federal or State health or safety law. (e) Election of State Regarding Nonapplicability.--This Act shall not apply to any civil action in a State court against a business entity in which all parties are citizens of the State if such State enacts a statute-- (1) citing the authority of this subsection; (2) declaring the election of such State that this Act shall not apply to such civil action in the State; and (3) containing no other provision.\"\n",
    "# Tokenize and encode the article\n",
    "inputs = tokenizer.encode(\"summarize: \" + article, return_tensors=\"pt\", max_length=512, truncation=True)\n",
    "\n",
    "# Generate summary\n",
    "summary_ids = model.generate(inputs, max_length=150, min_length=40, length_penalty=2.0, num_beams=4, early_stopping=True)\n",
    "\n",
    "# Decode and print the summary\n",
    "summary = tokenizer.decode(summary_ids[0], skip_special_tokens=True)\n",
    "print(\"Generated Summary:\", summary)\n"
   ]
  },
  {
   "cell_type": "code",
   "execution_count": null,
   "metadata": {
    "colab": {
     "base_uri": "https://localhost:8080/",
     "height": 507
    },
    "id": "5pp9JBbWVtxa",
    "outputId": "1863da4d-3b8a-4327-99f6-bc29a4ea08c0"
   },
   "outputs": [],
   "source": [
    "from collections import Counter\n",
    "import matplotlib.pyplot as plt\n",
    "import random\n",
    "\n",
    "# Example articles and summaries (replace with your actual data)\n",
    "articles = [\"SECTION 1. LIABILITY OF BUSINESS ENTITIES PROVIDING USE OF FACILITIES TO NONPROFIT ORGANIZATIONS. (a) Definitions.--In this section: (1) Business entity.--The term ``business entity'' means a firm, corporation, association, partnership, consortium, joint venture, or other form of enterprise. (2) Facility.--The term ``facility'' means any real property, including any building, improvement, or appurtenance. (3) Gross negligence.--The term ``gross negligence'' means voluntary and conscious conduct by a person with knowledge (at the time of the conduct) that the conduct is likely to be harmful to the health or well-being of another person. (4) Intentional misconduct.--The term ``intentional misconduct'' means conduct by a person with knowledge (at the time of the conduct) that the conduct is harmful to the health or well-being of another person. (5) Nonprofit organization.--The term ``nonprofit organization'' means-- (A) any organization described in section 501(c)(3) of the Internal Revenue Code of 1986 and exempt from tax under section 501(a) of such Code; or (B) any not-for-profit organization organized and conducted for public benefit and operated primarily for charitable, civic, educational, religious, welfare, or health purposes. (6) State.--The term ``State'' means each of the several States, the District of Columbia, the Commonwealth of Puerto Rico, the Virgin Islands, Guam, American Samoa, the Northern Mariana Islands, any other territory or possession of the United States, or any political subdivision of any such State, territory, or possession. (b) Limitation on Liability.-- (1) In general.--Subject to subsection (c), a business entity shall not be subject to civil liability relating to any injury or death occurring at a facility of the business entity in connection with a use of such facility by a nonprofit organization if-- (A) the use occurs outside of the scope of business of the business entity; (B) such injury or death occurs during a period that such facility is used by the nonprofit organization; and (C) the business entity authorized the use of such facility by the nonprofit organization. (2) Application.--This subsection shall apply-- (A) with respect to civil liability under Federal and State law; and (B) regardless of whether a nonprofit organization pays for the use of a facility. (c) Exception for Liability.--Subsection (b) shall not apply to an injury or death that results from an act or omission of a business entity that constitutes gross negligence or intentional misconduct, including any misconduct that-- (1) constitutes a crime of violence (as that term is defined in section 16 of title 18, United States Code) or act of international terrorism (as that term is defined in section 2331 of title 18) for which the defendant has been convicted in any court; (2) constitutes a hate crime (as that term is used in the Hate Crime Statistics Act (28 U.S.C. 534 note)); (3) involves a sexual offense, as defined by applicable State law, for which the defendant has been convicted in any court; or (4) involves misconduct for which the defendant has been found to have violated a Federal or State civil rights law. (d) Superseding Provision.-- (1) In general.--Subject to paragraph (2) and subsection (e), this Act preempts the laws of any State to the extent that such laws are inconsistent with this Act, except that this Act shall not preempt any State law that provides additional protection from liability for a business entity for an injury or death with respect to which conditions under subparagraphs (A) through (C) of subsection (b)(1) apply. (2) Limitation.--Nothing in this Act shall be construed to supersede any Federal or State health or safety law. (e) Election of State Regarding Nonapplicability.--This Act shall not apply to any civil action in a State court against a business entity in which all parties are citizens of the State if such State enacts a statute-- (1) citing the authority of this subsection; (2) declaring the election of such State that this Act shall not apply to such civil action in the State; and (3) containing no other provision.\"]\n",
    "summaries = [\"Shields a business entity from civil liability relating to any injury or death occurring at a facility of that entity in connection with a use of such facility by a nonprofit organization if: (1) the use occurs outside the scope of business of the business entity; (2) such injury or death occurs during a period that such facility is used by such organization; and (3) the business entity authorized the use of such facility by the organization. Makes this Act inapplicable to an injury or death that results from an act or omission of a business entity that constitutes gross negligence or intentional misconduct, including misconduct that: (1) constitutes a hate crime or a crime of violence or act of international terrorism for which the defendant has been convicted in any court; or (2) involves a sexual offense for which the defendant has been convicted in any court or misconduct for which the defendant has been found to have violated a Federal or State civil rights law. Preempts State laws to the extent that such laws are inconsistent with this Act, except State law that provides additional protection from liability. Specifies that this Act shall not be construed to supersede any Federal or State health or safety law. Makes this Act inapplicable to any civil action in a State court against a business entity in which all parties are citizens of the State if such State, citing this Act's authority and containing no other provision, enacts a statute declaring the State's election that this Act shall not apply to such action in the State.\", \"the term 'business entity'' means a firm, corporation, association, partnership, consortium, joint venture, or other form of enterprise. the term 'facility'' means any real property, including any building, improvement, or appurtenance. the term 'gross negligence'' means voluntary and conscious conduct by a person with knowledge that the conduct is harmful to the health or well-being of another person.\"]\n",
    "\n",
    "# Tokenize articles and summaries\n",
    "article_tokens = [word.lower() for article in articles for word in article.split()]\n",
    "summary_tokens = [word.lower() for summary in summaries for word in summary.split()]\n",
    "\n",
    "# Compute keyword frequencies\n",
    "article_keyword_freq = Counter(article_tokens)\n",
    "summary_keyword_freq = Counter(summary_tokens)\n",
    "\n",
    "# Get random 3 keywords for x-axis\n",
    "random_article_keywords = random.sample(list(article_keyword_freq.keys()), min(3, len(article_keyword_freq)))\n",
    "random_summary_keywords = random.sample(list(summary_keyword_freq.keys()), min(3, len(summary_keyword_freq)))\n",
    "\n",
    "# Plot bar charts\n",
    "plt.figure(figsize=(10, 5))\n",
    "plt.bar(article_keyword_freq.keys(), article_keyword_freq.values(), alpha=0.5, label='Articles')\n",
    "plt.bar(summary_keyword_freq.keys(), summary_keyword_freq.values(), alpha=0.5, label='Summaries')\n",
    "plt.title(\"Keyword Frequency in Articles and Summaries\")\n",
    "plt.xlabel(\"Keywords\")\n",
    "plt.ylabel(\"Frequency\")\n",
    "plt.xticks(random_article_keywords + random_summary_keywords)  # Set x-ticks to random keywords\n",
    "plt.xticks(rotation=45)\n",
    "plt.legend()\n",
    "plt.tight_layout()  # Adjust layout to prevent overlap\n",
    "plt.show()\n"
   ]
  },
  {
   "cell_type": "code",
   "execution_count": null,
   "metadata": {
    "colab": {
     "base_uri": "https://localhost:8080/",
     "height": 487
    },
    "id": "xkeNx_fCYnG9",
    "outputId": "10fa4584-7030-4caf-9361-bf8b3692cdd2"
   },
   "outputs": [],
   "source": [
    "import numpy as np\n",
    "import matplotlib.pyplot as plt\n",
    "\n",
    "# Define the ROUGE metrics\n",
    "metrics = ['rouge1', 'rouge2', 'rougeL', 'rougeLsum']\n",
    "\n",
    "# Extract ROUGE scores\n",
    "rouge_scores = {metric: results[metric].mid.fmeasure for metric in metrics}\n",
    "\n",
    "# Define colors for each metric\n",
    "colors = {'rouge1': 'blue', 'rouge2': 'green', 'rougeL': 'orange', 'rougeLsum': 'red'}\n",
    "\n",
    "# Plot line chart with bar chart\n",
    "plt.figure(figsize=(10, 5))\n",
    "for i, (metric, score) in enumerate(rouge_scores.items()):\n",
    "    plt.plot(i, score, marker='o', color=colors[metric], label=metric.upper() + ' Score')\n",
    "    plt.bar(i, score, color=colors[metric], alpha=0.5)\n",
    "plt.xticks(np.arange(len(metrics)), [metric.upper() for metric in metrics])\n",
    "plt.title(\"ROUGE Scores\")\n",
    "plt.xlabel(\"Metrics\")\n",
    "plt.ylabel(\"Scores\")\n",
    "plt.legend()\n",
    "plt.show()\n"
   ]
  },
  {
   "cell_type": "code",
   "execution_count": null,
   "metadata": {
    "colab": {
     "base_uri": "https://localhost:8080/",
     "height": 807
    },
    "id": "CcOKqsPYdKXB",
    "outputId": "0ec22ccd-7b8c-4338-849c-bb2e6a792ca0"
   },
   "outputs": [],
   "source": [
    "import numpy as np\n",
    "import matplotlib.pyplot as plt\n",
    "\n",
    "# Generate random frequency-based data for demonstration\n",
    "np.random.seed(0)\n",
    "num_instances = 100  # Number of instances\n",
    "rouge_scores = ['ROUGE-1', 'ROUGE-2', 'ROUGE-L', 'ROUGE-Lsum']\n",
    "frequency_data = {metric: np.random.randint(0, 10, num_instances) for metric in rouge_scores}\n",
    "\n",
    "# Plotting individual histograms for each ROUGE metric\n",
    "plt.figure(figsize=(12, 8))\n",
    "\n",
    "for i, metric in enumerate(rouge_scores, start=1):\n",
    "    plt.subplot(2, 2, i)\n",
    "    plt.hist(frequency_data[metric], bins=range(11), color='skyblue', edgecolor='black', alpha=0.7)\n",
    "    plt.title(metric)\n",
    "    plt.xlabel('Score')\n",
    "    plt.ylabel('Frequency')\n",
    "    plt.grid(axis='y', linestyle='--', alpha=0.7)\n",
    "\n",
    "plt.tight_layout()\n",
    "plt.show()\n"
   ]
  },
  {
   "cell_type": "code",
   "execution_count": null,
   "metadata": {
    "colab": {
     "base_uri": "https://localhost:8080/",
     "height": 564
    },
    "id": "h6KpT-KWdej-",
    "outputId": "0df5c609-1a5e-4ec7-cc13-69be449925d0"
   },
   "outputs": [],
   "source": [
    "import matplotlib.pyplot as plt\n",
    "import seaborn as sns\n",
    "import numpy as np\n",
    "\n",
    "# Given ROUGE scores for train and test splits\n",
    "rouge_scores_train = {'ROUGE-1': 0.3949, 'ROUGE-2': 0.1994, 'ROUGE-L': 0.2895, 'ROUGE-Lsum': 0.2891}\n",
    "rouge_scores_test = {'ROUGE-1': 0.3642, 'ROUGE-2': 0.1773, 'ROUGE-L': 0.2724, 'ROUGE-Lsum': 0.2715}\n",
    "\n",
    "# Create a matrix with the ROUGE scores for train and test datasets\n",
    "rouge_scores_matrix = np.array([[rouge_scores_train['ROUGE-1'], rouge_scores_test['ROUGE-1']],\n",
    "                                 [rouge_scores_train['ROUGE-2'], rouge_scores_test['ROUGE-2']],\n",
    "                                 [rouge_scores_train['ROUGE-L'], rouge_scores_test['ROUGE-L']],\n",
    "                                 [rouge_scores_train['ROUGE-Lsum'], rouge_scores_test['ROUGE-Lsum']]])\n",
    "\n",
    "# Plot heatmap\n",
    "plt.figure(figsize=(8, 6))\n",
    "sns.heatmap(rouge_scores_matrix, annot=True, fmt='.4f', cmap='Blues', xticklabels=['Train', 'Test'], yticklabels=['ROUGE-1', 'ROUGE-2', 'ROUGE-L', 'ROUGE-Lsum'])\n",
    "plt.xlabel('Dataset Split')\n",
    "plt.ylabel('ROUGE Metric')\n",
    "plt.title('ROUGE Score Distribution: Train vs Test')\n",
    "plt.show()\n"
   ]
  },
  {
   "cell_type": "code",
   "execution_count": null,
   "metadata": {
    "colab": {
     "base_uri": "https://localhost:8080/"
    },
    "id": "DTFOqQ_JITcS",
    "outputId": "bd58216d-d6db-4810-988a-bd71a5378264"
   },
   "outputs": [],
   "source": [
    "!pip install rouge-score\n",
    "from rouge_score import rouge_scorer\n",
    "\n",
    "# Test 1\n",
    "reference_summaries_1 = [\n",
    "    \"New Millennium Classrooms Act - Amends the Internal Revenue Code to: (1) expand the tax deduction for computer donations by corporations to tax-exempt schools to include donations to public libraries; (2) increase from two to three years the age of computers that can be contributed for such deduction; and (3) allow a business tax credit of 30 percent of the value of computers donated to tax-exempt schools and public libraries. Increases the amount of such credit to 50 percent for contributions to schools or public libraries in empowerment zones, enterprise communities, and Indian reservations.\"\n",
    "]\n",
    "\n",
    "generated_summary_1 = \"the Internal Revenue Code of 1986 relates to contributions of computer technology and equipment for elementary or secondary school purposes. it is amended by striking or'' at the end of subclause (I), by inserting or'' at the end of subclause (II), and by inserting after subclause (II) the following new subclause: (i) a public library (within the meaning of section 213(2)A)\"\n",
    "\n",
    "# Test 2\n",
    "reference_summaries_2 = [\n",
    "    \"Public Safety and Protection Investment Act of 2003 - Amends the Internal Revenue Code to allow businesses to expense the costs of purchasing and installing qualifying security devices.\"\n",
    "]\n",
    "\n",
    "generated_summary_2 = \"Public Safety and Protection Investment Act of 2003 amended by inserting after the item relating to section 179A the following new item: Sec. 179B. a taxpayer may elect to treat the cost of any qualifying security device as an expense which is not chargeable to capital account.\"\n",
    "\n",
    "# Initialize ROUGE scorer\n",
    "scorer = rouge_scorer.RougeScorer(['rouge1', 'rouge2', 'rougeL', 'rougeLsum'], use_stemmer=True)\n",
    "\n",
    "# Calculate ROUGE scores\n",
    "scores_1 = scorer.score(reference_summaries_1[0], generated_summary_1)\n",
    "scores_2 = scorer.score(reference_summaries_2[0], generated_summary_2)\n",
    "\n",
    "# Print scores\n",
    "print(\"Test 1 ROUGE Scores:\", scores_1)\n",
    "print(\"Test 2 ROUGE Scores:\", scores_2)\n"
   ]
  },
  {
   "cell_type": "markdown",
   "metadata": {
    "id": "9Oe7LfMQ-Ja0"
   },
   "source": [
    "### Step 4 : Model deployment"
   ]
  },
  {
   "cell_type": "code",
   "execution_count": null,
   "metadata": {
    "colab": {
     "base_uri": "https://localhost:8080/"
    },
    "id": "13D8EVqXkDm8",
    "outputId": "1409ca5c-697a-4d73-d832-a9b5506d5321"
   },
   "outputs": [],
   "source": [
    "!pip install streamlit -q"
   ]
  },
  {
   "cell_type": "code",
   "execution_count": null,
   "metadata": {
    "id": "g3BSFetHkKjX"
   },
   "outputs": [],
   "source": [
    "# run this command which is indead the \" \" as it shows ip \"!wget -q -O - ipv4.icanhazip.com\""
   ]
  },
  {
   "cell_type": "markdown",
   "metadata": {
    "id": "tIenUojy-kkY"
   },
   "source": []
  },
  {
   "cell_type": "code",
   "execution_count": null,
   "metadata": {
    "colab": {
     "base_uri": "https://localhost:8080/"
    },
    "id": "VE3mXZ2IlcJ0",
    "outputId": "5efe25b8-c8c7-49bc-dab8-5fd4faab9fd6"
   },
   "outputs": [],
   "source": [
    "!pip install streamlit\n",
    "!pip install PyMuPDF\n",
    "!pip install transformers"
   ]
  },
  {
   "cell_type": "code",
   "execution_count": null,
   "metadata": {
    "colab": {
     "base_uri": "https://localhost:8080/"
    },
    "id": "PMNf1lmQkNsI",
    "outputId": "ddef917e-9dce-4fc8-f21c-25b81cdab78d"
   },
   "outputs": [],
   "source": [
    "!streamlit run app.py & npx localtunnel --port 8501"
   ]
  },
  {
   "cell_type": "code",
   "execution_count": null,
   "metadata": {
    "colab": {
     "base_uri": "https://localhost:8080/"
    },
    "id": "rzHFPIfKp0KT",
    "outputId": "f0ae7f0c-cadc-410e-a461-8cc005c1476b"
   },
   "outputs": [],
   "source": [
    "from google.colab import drive\n",
    "drive.mount('/content/drive')"
   ]
  }
 ],
 "metadata": {
  "colab": {
   "provenance": []
  },
  "kernelspec": {
   "display_name": "Python 3",
   "name": "python3"
  },
  "language_info": {
   "name": "python"
  }
 },
 "nbformat": 4,
 "nbformat_minor": 0
}
